{
 "cells": [
  {
   "cell_type": "code",
   "execution_count": 5,
   "metadata": {},
   "outputs": [],
   "source": [
    "# First importing required packages\n",
    "\n",
    "import pandas as pd\n",
    "import numpy as np\n",
    "import os"
   ]
  },
  {
   "cell_type": "code",
   "execution_count": 14,
   "metadata": {},
   "outputs": [
    {
     "name": "stdout",
     "output_type": "stream",
     "text": [
      "/Users/alexwang/Walkable/cleaning/../data/2023data.csv\n",
      "  INCIDENT_NUMBER  OFFENSE_CODE  OFFENSE_CODE_GROUP  \\\n",
      "0       232007173          3115                 NaN   \n",
      "1       232098649          3201                 NaN   \n",
      "2       232098689          3831                 NaN   \n",
      "3       232098474          3115                 NaN   \n",
      "4       232098505           619                 NaN   \n",
      "\n",
      "                     OFFENSE_DESCRIPTION DISTRICT REPORTING_AREA  SHOOTING  \\\n",
      "0                     INVESTIGATE PERSON       B3                        0   \n",
      "1               PROPERTY - LOST/ MISSING       C6            207         0   \n",
      "2  M/V - LEAVING SCENE - PROPERTY DAMAGE       B3            434         0   \n",
      "3                     INVESTIGATE PERSON      C11            359         0   \n",
      "4                     LARCENY ALL OTHERS       D4            167         0   \n",
      "\n",
      "         OCCURRED_ON_DATE  YEAR  MONTH DAY_OF_WEEK  HOUR  UCR_PART  \\\n",
      "0  2023-01-27 22:44:00+00  2023      1   Friday       22       NaN   \n",
      "1  2023-12-03 17:02:00+00  2023     12   Sunday       17       NaN   \n",
      "2  2023-12-04 18:49:00+00  2023     12   Monday       18       NaN   \n",
      "3  2023-12-04 05:51:00+00  2023     12   Monday        5       NaN   \n",
      "4  2023-12-02 14:15:00+00  2023     12   Saturday     14       NaN   \n",
      "\n",
      "         STREET        Lat       Long  \\\n",
      "0      FAVRE ST  42.271661 -71.099535   \n",
      "1    SEAPORT LN  42.349088 -71.041135   \n",
      "2  THETFORD AVE  42.284659 -71.078401   \n",
      "3     REGINA RD  42.295248 -71.071088   \n",
      "4  HARRISON AVE  42.339542 -71.069409   \n",
      "\n",
      "                                   Location  \n",
      "0  (42.271661031027065, -71.09953455161765)  \n",
      "1  (42.349087870068175, -71.04113540160263)  \n",
      "2   (42.28465946403694, -71.07840062397692)  \n",
      "3   (42.29524811005633, -71.07108834551329)  \n",
      "4   (42.33954152609665, -71.06940928222296)  \n"
     ]
    },
    {
     "name": "stderr",
     "output_type": "stream",
     "text": [
      "/var/folders/w0/r7f6nr2x1xg6_lvr6slny5b40000gn/T/ipykernel_73000/158446485.py:6: DtypeWarning: Columns (0) have mixed types. Specify dtype option on import or set low_memory=False.\n",
      "  df = pd.read_csv(path)\n"
     ]
    }
   ],
   "source": [
    "path = os.path.join(os.getcwd(), \"../data/2023data.csv\")\n",
    "\n",
    "# Ensure that this is the correct path\n",
    "print(path)\n",
    "\n",
    "df = pd.read_csv(path)\n"
   ]
  },
  {
   "cell_type": "code",
   "execution_count": 16,
   "metadata": {},
   "outputs": [
    {
     "name": "stdout",
     "output_type": "stream",
     "text": [
      "  INCIDENT_NUMBER  OFFENSE_CODE  OFFENSE_CODE_GROUP  \\\n",
      "0       232007173          3115                 NaN   \n",
      "1       232098649          3201                 NaN   \n",
      "2       232098689          3831                 NaN   \n",
      "3       232098474          3115                 NaN   \n",
      "4       232098505           619                 NaN   \n",
      "\n",
      "                     OFFENSE_DESCRIPTION DISTRICT REPORTING_AREA  SHOOTING  \\\n",
      "0                     INVESTIGATE PERSON       B3                        0   \n",
      "1               PROPERTY - LOST/ MISSING       C6            207         0   \n",
      "2  M/V - LEAVING SCENE - PROPERTY DAMAGE       B3            434         0   \n",
      "3                     INVESTIGATE PERSON      C11            359         0   \n",
      "4                     LARCENY ALL OTHERS       D4            167         0   \n",
      "\n",
      "         OCCURRED_ON_DATE  YEAR  MONTH DAY_OF_WEEK  HOUR  UCR_PART  \\\n",
      "0  2023-01-27 22:44:00+00  2023      1   Friday       22       NaN   \n",
      "1  2023-12-03 17:02:00+00  2023     12   Sunday       17       NaN   \n",
      "2  2023-12-04 18:49:00+00  2023     12   Monday       18       NaN   \n",
      "3  2023-12-04 05:51:00+00  2023     12   Monday        5       NaN   \n",
      "4  2023-12-02 14:15:00+00  2023     12   Saturday     14       NaN   \n",
      "\n",
      "         STREET        Lat       Long  \\\n",
      "0      FAVRE ST  42.271661 -71.099535   \n",
      "1    SEAPORT LN  42.349088 -71.041135   \n",
      "2  THETFORD AVE  42.284659 -71.078401   \n",
      "3     REGINA RD  42.295248 -71.071088   \n",
      "4  HARRISON AVE  42.339542 -71.069409   \n",
      "\n",
      "                                   Location  \n",
      "0  (42.271661031027065, -71.09953455161765)  \n",
      "1  (42.349087870068175, -71.04113540160263)  \n",
      "2   (42.28465946403694, -71.07840062397692)  \n",
      "3   (42.29524811005633, -71.07108834551329)  \n",
      "4   (42.33954152609665, -71.06940928222296)  \n"
     ]
    }
   ],
   "source": [
    "# Just useful for viewing the first couple entries\n",
    "print(df.head())"
   ]
  },
  {
   "cell_type": "code",
   "execution_count": 55,
   "metadata": {},
   "outputs": [
    {
     "name": "stdout",
     "output_type": "stream",
     "text": [
      "Index(['INCIDENT_NUMBER', 'OFFENSE_CODE', 'OFFENSE_CODE_GROUP',\n",
      "       'OFFENSE_DESCRIPTION', 'DISTRICT', 'REPORTING_AREA', 'SHOOTING',\n",
      "       'OCCURRED_ON_DATE', 'YEAR', 'MONTH', 'DAY_OF_WEEK', 'HOUR', 'UCR_PART',\n",
      "       'STREET', 'Lat', 'Long', 'Location'],\n",
      "      dtype='object')\n",
      "  INCIDENT_NUMBER  OFFENSE_CODE        OCCURRED_ON_DATE        Lat       Long  \\\n",
      "0       232007173          3115  2023-01-27 22:44:00+00  42.271661 -71.099535   \n",
      "1       232098649          3201  2023-12-03 17:02:00+00  42.349088 -71.041135   \n",
      "2       232098689          3831  2023-12-04 18:49:00+00  42.284659 -71.078401   \n",
      "3       232098474          3115  2023-12-04 05:51:00+00  42.295248 -71.071088   \n",
      "4       232098505           619  2023-12-02 14:15:00+00  42.339542 -71.069409   \n",
      "\n",
      "                                   Location        STREET  \n",
      "0  (42.271661031027065, -71.09953455161765)      FAVRE ST  \n",
      "1  (42.349087870068175, -71.04113540160263)    SEAPORT LN  \n",
      "2   (42.28465946403694, -71.07840062397692)  THETFORD AVE  \n",
      "3   (42.29524811005633, -71.07108834551329)     REGINA RD  \n",
      "4   (42.33954152609665, -71.06940928222296)  HARRISON AVE  \n"
     ]
    }
   ],
   "source": [
    "print(df.columns)\n",
    "df_clean = df[['INCIDENT_NUMBER', 'OFFENSE_CODE', 'OCCURRED_ON_DATE', 'Lat', 'Long', 'Location', 'STREET']]\n",
    "\n",
    "print(df_clean.head())"
   ]
  },
  {
   "cell_type": "code",
   "execution_count": 56,
   "metadata": {},
   "outputs": [
    {
     "name": "stdout",
     "output_type": "stream",
     "text": [
      "42.17145584778691 42.39504103740181\n",
      "-71.20251098224917 -70.95372676830739\n"
     ]
    },
    {
     "data": {
      "text/plain": [
       "(None, None)"
      ]
     },
     "execution_count": 56,
     "metadata": {},
     "output_type": "execute_result"
    }
   ],
   "source": [
    "LatMIN, LatMAX = df_clean['Lat'].min(), df_clean['Lat'].max()\n",
    "LongMIN, LongMAX = df_clean['Long'].min(), df_clean['Long'].max()\n",
    "\n",
    "print(LatMIN, LatMAX), print(LongMIN, LongMAX)"
   ]
  },
  {
   "cell_type": "code",
   "execution_count": 57,
   "metadata": {},
   "outputs": [
    {
     "name": "stdout",
     "output_type": "stream",
     "text": [
      "0    2023-01-27 22:44:00+00\n",
      "1    2023-12-03 17:02:00+00\n",
      "2    2023-12-04 18:49:00+00\n",
      "3    2023-12-04 05:51:00+00\n",
      "4    2023-12-02 14:15:00+00\n",
      "Name: OCCURRED_ON_DATE, dtype: object\n"
     ]
    }
   ],
   "source": [
    "print(df_clean['OCCURRED_ON_DATE'].head())"
   ]
  },
  {
   "cell_type": "code",
   "execution_count": 58,
   "metadata": {},
   "outputs": [],
   "source": [
    "df_clean = df_clean.copy()\n",
    "df_clean['OCCURRED_ON_DATE'] = pd.to_datetime(df_clean['OCCURRED_ON_DATE'], utc=True)\n"
   ]
  },
  {
   "cell_type": "code",
   "execution_count": 59,
   "metadata": {},
   "outputs": [
    {
     "data": {
      "text/html": [
       "<div>\n",
       "<style scoped>\n",
       "    .dataframe tbody tr th:only-of-type {\n",
       "        vertical-align: middle;\n",
       "    }\n",
       "\n",
       "    .dataframe tbody tr th {\n",
       "        vertical-align: top;\n",
       "    }\n",
       "\n",
       "    .dataframe thead th {\n",
       "        text-align: right;\n",
       "    }\n",
       "</style>\n",
       "<table border=\"1\" class=\"dataframe\">\n",
       "  <thead>\n",
       "    <tr style=\"text-align: right;\">\n",
       "      <th></th>\n",
       "      <th>INCIDENT_NUMBER</th>\n",
       "      <th>OFFENSE_CODE</th>\n",
       "      <th>OCCURRED_ON_DATE</th>\n",
       "      <th>Lat</th>\n",
       "      <th>Long</th>\n",
       "      <th>Location</th>\n",
       "      <th>STREET</th>\n",
       "    </tr>\n",
       "  </thead>\n",
       "  <tbody>\n",
       "    <tr>\n",
       "      <th>0</th>\n",
       "      <td>232007173</td>\n",
       "      <td>3115</td>\n",
       "      <td>2023-01-27 22:44:00+00:00</td>\n",
       "      <td>42.271661</td>\n",
       "      <td>-71.099535</td>\n",
       "      <td>(42.271661031027065, -71.09953455161765)</td>\n",
       "      <td>FAVRE ST</td>\n",
       "    </tr>\n",
       "    <tr>\n",
       "      <th>1</th>\n",
       "      <td>232098649</td>\n",
       "      <td>3201</td>\n",
       "      <td>2023-12-03 17:02:00+00:00</td>\n",
       "      <td>42.349088</td>\n",
       "      <td>-71.041135</td>\n",
       "      <td>(42.349087870068175, -71.04113540160263)</td>\n",
       "      <td>SEAPORT LN</td>\n",
       "    </tr>\n",
       "    <tr>\n",
       "      <th>2</th>\n",
       "      <td>232098689</td>\n",
       "      <td>3831</td>\n",
       "      <td>2023-12-04 18:49:00+00:00</td>\n",
       "      <td>42.284659</td>\n",
       "      <td>-71.078401</td>\n",
       "      <td>(42.28465946403694, -71.07840062397692)</td>\n",
       "      <td>THETFORD AVE</td>\n",
       "    </tr>\n",
       "    <tr>\n",
       "      <th>3</th>\n",
       "      <td>232098474</td>\n",
       "      <td>3115</td>\n",
       "      <td>2023-12-04 05:51:00+00:00</td>\n",
       "      <td>42.295248</td>\n",
       "      <td>-71.071088</td>\n",
       "      <td>(42.29524811005633, -71.07108834551329)</td>\n",
       "      <td>REGINA RD</td>\n",
       "    </tr>\n",
       "    <tr>\n",
       "      <th>4</th>\n",
       "      <td>232098505</td>\n",
       "      <td>619</td>\n",
       "      <td>2023-12-02 14:15:00+00:00</td>\n",
       "      <td>42.339542</td>\n",
       "      <td>-71.069409</td>\n",
       "      <td>(42.33954152609665, -71.06940928222296)</td>\n",
       "      <td>HARRISON AVE</td>\n",
       "    </tr>\n",
       "  </tbody>\n",
       "</table>\n",
       "</div>"
      ],
      "text/plain": [
       "  INCIDENT_NUMBER  OFFENSE_CODE          OCCURRED_ON_DATE        Lat  \\\n",
       "0       232007173          3115 2023-01-27 22:44:00+00:00  42.271661   \n",
       "1       232098649          3201 2023-12-03 17:02:00+00:00  42.349088   \n",
       "2       232098689          3831 2023-12-04 18:49:00+00:00  42.284659   \n",
       "3       232098474          3115 2023-12-04 05:51:00+00:00  42.295248   \n",
       "4       232098505           619 2023-12-02 14:15:00+00:00  42.339542   \n",
       "\n",
       "        Long                                  Location        STREET  \n",
       "0 -71.099535  (42.271661031027065, -71.09953455161765)      FAVRE ST  \n",
       "1 -71.041135  (42.349087870068175, -71.04113540160263)    SEAPORT LN  \n",
       "2 -71.078401   (42.28465946403694, -71.07840062397692)  THETFORD AVE  \n",
       "3 -71.071088   (42.29524811005633, -71.07108834551329)     REGINA RD  \n",
       "4 -71.069409   (42.33954152609665, -71.06940928222296)  HARRISON AVE  "
      ]
     },
     "execution_count": 59,
     "metadata": {},
     "output_type": "execute_result"
    }
   ],
   "source": [
    "df_clean.head()"
   ]
  },
  {
   "cell_type": "code",
   "execution_count": 63,
   "metadata": {},
   "outputs": [],
   "source": [
    "# Now we need to rename the columns in order to have consistency between our PostgreSQL database and our .csv file that we want to generate\n",
    "\n",
    "df_clean.rename(columns={'INCIDENT_NUMBER': 'incident_number', 'OFFENSE_CODE': 'offense_code', 'OCCURRED_ON_DATE': 'occurred_on_date', \"Lat\": \"lat\", \"Long\": \"lon\", \"Location\": 'location', \"STREET\": \"street\"}, inplace=True)"
   ]
  },
  {
   "cell_type": "code",
   "execution_count": 67,
   "metadata": {},
   "outputs": [
    {
     "data": {
      "text/html": [
       "<div>\n",
       "<style scoped>\n",
       "    .dataframe tbody tr th:only-of-type {\n",
       "        vertical-align: middle;\n",
       "    }\n",
       "\n",
       "    .dataframe tbody tr th {\n",
       "        vertical-align: top;\n",
       "    }\n",
       "\n",
       "    .dataframe thead th {\n",
       "        text-align: right;\n",
       "    }\n",
       "</style>\n",
       "<table border=\"1\" class=\"dataframe\">\n",
       "  <thead>\n",
       "    <tr style=\"text-align: right;\">\n",
       "      <th></th>\n",
       "      <th>incident_number</th>\n",
       "      <th>offense_code</th>\n",
       "      <th>occurred_on_date</th>\n",
       "      <th>lat</th>\n",
       "      <th>lon</th>\n",
       "      <th>location</th>\n",
       "      <th>street</th>\n",
       "    </tr>\n",
       "  </thead>\n",
       "  <tbody>\n",
       "    <tr>\n",
       "      <th>0</th>\n",
       "      <td>232007173</td>\n",
       "      <td>3115</td>\n",
       "      <td>2023-01-27 22:44:00+00:00</td>\n",
       "      <td>42.271661</td>\n",
       "      <td>-71.099535</td>\n",
       "      <td>(42.271661031027065, -71.09953455161765)</td>\n",
       "      <td>FAVRE ST</td>\n",
       "    </tr>\n",
       "    <tr>\n",
       "      <th>1</th>\n",
       "      <td>232098649</td>\n",
       "      <td>3201</td>\n",
       "      <td>2023-12-03 17:02:00+00:00</td>\n",
       "      <td>42.349088</td>\n",
       "      <td>-71.041135</td>\n",
       "      <td>(42.349087870068175, -71.04113540160263)</td>\n",
       "      <td>SEAPORT LN</td>\n",
       "    </tr>\n",
       "    <tr>\n",
       "      <th>2</th>\n",
       "      <td>232098689</td>\n",
       "      <td>3831</td>\n",
       "      <td>2023-12-04 18:49:00+00:00</td>\n",
       "      <td>42.284659</td>\n",
       "      <td>-71.078401</td>\n",
       "      <td>(42.28465946403694, -71.07840062397692)</td>\n",
       "      <td>THETFORD AVE</td>\n",
       "    </tr>\n",
       "    <tr>\n",
       "      <th>3</th>\n",
       "      <td>232098474</td>\n",
       "      <td>3115</td>\n",
       "      <td>2023-12-04 05:51:00+00:00</td>\n",
       "      <td>42.295248</td>\n",
       "      <td>-71.071088</td>\n",
       "      <td>(42.29524811005633, -71.07108834551329)</td>\n",
       "      <td>REGINA RD</td>\n",
       "    </tr>\n",
       "    <tr>\n",
       "      <th>4</th>\n",
       "      <td>232098505</td>\n",
       "      <td>619</td>\n",
       "      <td>2023-12-02 14:15:00+00:00</td>\n",
       "      <td>42.339542</td>\n",
       "      <td>-71.069409</td>\n",
       "      <td>(42.33954152609665, -71.06940928222296)</td>\n",
       "      <td>HARRISON AVE</td>\n",
       "    </tr>\n",
       "  </tbody>\n",
       "</table>\n",
       "</div>"
      ],
      "text/plain": [
       "  incident_number  offense_code          occurred_on_date        lat  \\\n",
       "0       232007173          3115 2023-01-27 22:44:00+00:00  42.271661   \n",
       "1       232098649          3201 2023-12-03 17:02:00+00:00  42.349088   \n",
       "2       232098689          3831 2023-12-04 18:49:00+00:00  42.284659   \n",
       "3       232098474          3115 2023-12-04 05:51:00+00:00  42.295248   \n",
       "4       232098505           619 2023-12-02 14:15:00+00:00  42.339542   \n",
       "\n",
       "         lon                                  location        street  \n",
       "0 -71.099535  (42.271661031027065, -71.09953455161765)      FAVRE ST  \n",
       "1 -71.041135  (42.349087870068175, -71.04113540160263)    SEAPORT LN  \n",
       "2 -71.078401   (42.28465946403694, -71.07840062397692)  THETFORD AVE  \n",
       "3 -71.071088   (42.29524811005633, -71.07108834551329)     REGINA RD  \n",
       "4 -71.069409   (42.33954152609665, -71.06940928222296)  HARRISON AVE  "
      ]
     },
     "execution_count": 67,
     "metadata": {},
     "output_type": "execute_result"
    }
   ],
   "source": [
    "df_clean.head()"
   ]
  },
  {
   "cell_type": "code",
   "execution_count": 65,
   "metadata": {},
   "outputs": [
    {
     "name": "stdout",
     "output_type": "stream",
     "text": [
      "131958\n"
     ]
    }
   ],
   "source": [
    "print(len(df_clean))"
   ]
  },
  {
   "cell_type": "code",
   "execution_count": 68,
   "metadata": {},
   "outputs": [
    {
     "name": "stdout",
     "output_type": "stream",
     "text": [
      "    incident_number  offense_code          occurred_on_date  lat  lon  \\\n",
      "22        232070967          3114 2023-09-03 09:00:00+00:00  NaN  NaN   \n",
      "48        242057267          2905 2024-07-12 11:20:00+00:00  NaN  NaN   \n",
      "64        242057577          2647 2024-07-11 12:25:00+00:00  NaN  NaN   \n",
      "82        232103621          1810 2023-12-20 00:00:00+00:00  NaN  NaN   \n",
      "134       242007068          1106 2023-11-21 18:19:00+00:00  NaN  NaN   \n",
      "\n",
      "    location          street  \n",
      "22       NaN  E EAGLE STREET  \n",
      "48       NaN    RIVER STREET  \n",
      "64       NaN      SUDBURY ST  \n",
      "82       NaN  OLDFIELDS ROAD  \n",
      "134      NaN      SUDBURY ST  \n"
     ]
    }
   ],
   "source": [
    "# Check for missing values\n",
    "df_clean.isnull().sum()\n",
    "\n",
    "# Filter rows where either 'lat' or 'lon' is missing\n",
    "missing_values = df_clean[df_clean['lat'].isna() | df_clean['lon'].isna()]\n",
    "\n",
    "# Show examples (first 5 rows with missing values)\n",
    "print(missing_values.head())\n"
   ]
  },
  {
   "cell_type": "markdown",
   "metadata": {},
   "source": [
    "## Important note about feature engineering/selection\n",
    "Here I realized that there was quite a bit of missing longitude and latitude values. I decided to add a section specifically for streets as well. "
   ]
  },
  {
   "cell_type": "code",
   "execution_count": null,
   "metadata": {},
   "outputs": [],
   "source": [
    "# Further, because we are using a GIS system with points for the database, we will need to change the location to 'POINT' type\n",
    "df_clean['location'] = df_clean.apply(lambda row: f\"POINT({row['lon']} {row['lat']})\", axis=1)\n"
   ]
  },
  {
   "cell_type": "code",
   "execution_count": 72,
   "metadata": {},
   "outputs": [],
   "source": [
    "# This creates the final DF that is cleaned and formatted the same as the desired table. \n",
    "\n",
    "df_clean.to_csv('/Users/alexwang/Walkable/data/cleaned_2023_data.csv', index=False)"
   ]
  }
 ],
 "metadata": {
  "kernelspec": {
   "display_name": "Python 3",
   "language": "python",
   "name": "python3"
  },
  "language_info": {
   "codemirror_mode": {
    "name": "ipython",
    "version": 3
   },
   "file_extension": ".py",
   "mimetype": "text/x-python",
   "name": "python",
   "nbconvert_exporter": "python",
   "pygments_lexer": "ipython3",
   "version": "3.11.3"
  },
  "orig_nbformat": 4
 },
 "nbformat": 4,
 "nbformat_minor": 2
}
